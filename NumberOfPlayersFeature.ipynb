{
 "cells": [
  {
   "cell_type": "code",
   "execution_count": 6,
   "metadata": {},
   "outputs": [],
   "source": [
    "import pandas as pd\n",
    "import numpy as np\n",
    "import json\n",
    "from pprint import pprint\n",
    "from datetime import datetime"
   ]
  },
  {
   "cell_type": "code",
   "execution_count": 7,
   "metadata": {},
   "outputs": [],
   "source": [
    "with open('1.json') as f:\n",
    "    data1 = json.load(f)\n",
    "with open('2.json') as f:\n",
    "    data2 = json.load(f)\n",
    "with open('3.json') as f:\n",
    "    data3 = json.load(f)\n",
    "with open('4.json') as f:\n",
    "    data4 = json.load(f)\n",
    "with open('5.json') as f:\n",
    "    data5 = json.load(f)\n",
    "with open('6.json') as f:\n",
    "    data6 = json.load(f)\n",
    "with open('7.json') as f:\n",
    "    data7 = json.load(f)\n",
    "with open('8.json') as f:\n",
    "    data8 = json.load(f)\n",
    "with open('9.json') as f:\n",
    "    data9 = json.load(f)\n",
    "with open('10.json') as f:\n",
    "    data10 = json.load(f)\n",
    "with open('11.json') as f:\n",
    "    data11 = json.load(f)\n",
    "\n",
    "def clean_data(data1):\n",
    "    column_names = ['roundIdx', 'date', 'type', 'data','teams']\n",
    "    all_data = pd.DataFrame(columns = column_names)\n",
    "    for index,value in enumerate(data1):\n",
    "        if data1[index]['type']=='round_start': \n",
    "            all_data.set_value(index, 'roundIdx', data1[index]['roundIdx'])\n",
    "            all_data.set_value(index, 'date', data1[index]['date'])\n",
    "            all_data.set_value(index, 'type', data1[index]['type'])\n",
    "            all_data.set_value(index, 'teams', data1[index]['data']['teams'])\n",
    "        all_data.set_value(index, 'roundIdx', data1[index]['roundIdx'])\n",
    "        all_data.set_value(index, 'date', data1[index]['date'])\n",
    "        all_data.set_value(index, 'type', data1[index]['type'])\n",
    "        all_data.set_value(index, 'data', data1[index]['data'])\n",
    "    return all_data"
   ]
  },
  {
   "cell_type": "code",
   "execution_count": 8,
   "metadata": {},
   "outputs": [
    {
     "name": "stderr",
     "output_type": "stream",
     "text": [
      "C:\\Users\\zinaw\\Anaconda3\\lib\\site-packages\\ipykernel_launcher.py:33: FutureWarning: set_value is deprecated and will be removed in a future release. Please use .at[] or .iat[] accessors instead\n",
      "C:\\Users\\zinaw\\Anaconda3\\lib\\site-packages\\ipykernel_launcher.py:34: FutureWarning: set_value is deprecated and will be removed in a future release. Please use .at[] or .iat[] accessors instead\n",
      "C:\\Users\\zinaw\\Anaconda3\\lib\\site-packages\\ipykernel_launcher.py:35: FutureWarning: set_value is deprecated and will be removed in a future release. Please use .at[] or .iat[] accessors instead\n",
      "C:\\Users\\zinaw\\Anaconda3\\lib\\site-packages\\ipykernel_launcher.py:36: FutureWarning: set_value is deprecated and will be removed in a future release. Please use .at[] or .iat[] accessors instead\n",
      "C:\\Users\\zinaw\\Anaconda3\\lib\\site-packages\\ipykernel_launcher.py:29: FutureWarning: set_value is deprecated and will be removed in a future release. Please use .at[] or .iat[] accessors instead\n",
      "C:\\Users\\zinaw\\Anaconda3\\lib\\site-packages\\ipykernel_launcher.py:30: FutureWarning: set_value is deprecated and will be removed in a future release. Please use .at[] or .iat[] accessors instead\n",
      "C:\\Users\\zinaw\\Anaconda3\\lib\\site-packages\\ipykernel_launcher.py:31: FutureWarning: set_value is deprecated and will be removed in a future release. Please use .at[] or .iat[] accessors instead\n",
      "C:\\Users\\zinaw\\Anaconda3\\lib\\site-packages\\ipykernel_launcher.py:32: FutureWarning: set_value is deprecated and will be removed in a future release. Please use .at[] or .iat[] accessors instead\n"
     ]
    },
    {
     "name": "stdout",
     "output_type": "stream",
     "text": [
      "1 done\n",
      "2 done\n",
      "3 done\n",
      "4 done\n",
      "5 done\n",
      "6 done\n",
      "7 done\n",
      "8 done\n",
      "9 done\n",
      "10 done\n",
      "11 done\n"
     ]
    }
   ],
   "source": [
    "df1 = clean_data(data1)\n",
    "print('1 done')\n",
    "df2 = clean_data(data2)\n",
    "print('2 done')\n",
    "df3 = clean_data(data3)\n",
    "print('3 done')\n",
    "df4 = clean_data(data4)\n",
    "print('4 done')\n",
    "df5 = clean_data(data5)\n",
    "print('5 done')\n",
    "df6 = clean_data(data6)\n",
    "print('6 done')\n",
    "df7 = clean_data(data7)\n",
    "print('7 done')\n",
    "df8 = clean_data(data8)\n",
    "print('8 done')\n",
    "df9 = clean_data(data9)\n",
    "print('9 done')\n",
    "df10 = clean_data(data10)\n",
    "print('10 done')\n",
    "df11 = clean_data(data11)\n",
    "print('11 done')"
   ]
  },
  {
   "cell_type": "code",
   "execution_count": 9,
   "metadata": {},
   "outputs": [
    {
     "name": "stdout",
     "output_type": "stream",
     "text": [
      "(1366, 5) (1935, 5) (3539, 5) (1891, 5) (1935, 5) (1711, 5) (1421, 5) (3500, 5) (1585, 5) (1585, 5) (2596, 5)\n",
      "-----------------------\n",
      "10687\n",
      "(12377, 5)\n",
      "['roundIdx', 'date', 'type', 'data', 'teams']\n"
     ]
    }
   ],
   "source": [
    "print(df1.shape,df2.shape,df3.shape,df4.shape,df5.shape,df6.shape,df7.shape,df8.shape,df9.shape,df10.shape,df11.shape)\n",
    "column_names = ['roundIdx', 'date', 'type', 'data','teams']\n",
    "all_data = pd.DataFrame(columns = column_names)\n",
    "all_data = pd.concat([df1,df2], axis=0)\n",
    "all_data = pd.concat([all_data,df3], axis=0)\n",
    "all_data = pd.concat([all_data,df4], axis=0)\n",
    "all_data = pd.concat([all_data,df5], axis=0)\n",
    "all_data = pd.concat([all_data,df6], axis=0)\n",
    "all_data.index = range(0,all_data.shape[0])\n",
    "\n",
    "# all_data = pd.DataFrame(columns = column_names)\n",
    "# all_data = pd.concat([df7,df8], axis=0)\n",
    "# all_data = pd.concat([all_data,df9], axis=0)\n",
    "# all_data = pd.concat([all_data,df11], axis=0)\n",
    "# all_data.index = range(0,all_data.shape[0])\n",
    "print('-----------------------')\n",
    "# print(df1.shape[0]+df2.shape[0]+df3.shape[0]+df4.shape[0]+df5.shape[0]+df6.shape[0])\n",
    "print(df7.shape[0]+df8.shape[0]+df9.shape[0]+df10.shape[0]+df11.shape[0])\n",
    "print(all_data.shape)\n",
    "print(list(all_data))"
   ]
  },
  {
   "cell_type": "code",
   "execution_count": 10,
   "metadata": {},
   "outputs": [
    {
     "name": "stdout",
     "output_type": "stream",
     "text": [
      "{'roundIdx': 1, 'date': '2018-03-02T12:10:07.527+00:00', 'type': 'throw', 'data': {'actor': {'playerId': 'karrigan', 'ingameTeam': 'CT'}, 'item': 'flashbang', 'position': {'x': -604, 'y': 275, 'z': 47}}}\n",
      "{'roundIdx': 1, 'date': '2018-03-02T12:09:55.756+00:00', 'type': 'round_start', 'data': {'teams': [{'id': '24a7a69c-4c71-4534-853d-31b6d0be1399', 'ingameTeam': 'CT'}, {'id': '95e1ecf1-d6ec-4643-96ef-ef971a9fa4fe', 'ingameTeam': 'TERRORIST'}]}}\n",
      "1\n",
      "2018-03-02T12:09:39.982+00:00\n",
      "purchase\n",
      "GuardiaN\n",
      "CT\n",
      "item_kevlar\n",
      "[{'id': '24a7a69c-4c71-4534-853d-31b6d0be1399', 'ingameTeam': 'CT'}, {'id': '95e1ecf1-d6ec-4643-96ef-ef971a9fa4fe', 'ingameTeam': 'TERRORIST'}]\n"
     ]
    }
   ],
   "source": [
    "print(data1[18])\n",
    "print(data1[17])\n",
    "print(data1[0]['roundIdx'])\n",
    "print(data1[0]['date'])\n",
    "print(data1[0]['type'])\n",
    "print(data1[0]['data']['actor']['playerId'])\n",
    "print(data1[0]['data']['actor']['ingameTeam'])\n",
    "print(data1[0]['data']['item'])\n",
    "print(data1[17]['data']['teams'])"
   ]
  },
  {
   "cell_type": "code",
   "execution_count": 11,
   "metadata": {},
   "outputs": [
    {
     "name": "stdout",
     "output_type": "stream",
     "text": [
      "(1397, 5)\n"
     ]
    }
   ],
   "source": [
    "# print(np.unique(df11['type']))\n",
    "# type ['assist' 'bomb_defuse' 'bomb_defuse_begin' 'bomb_plant' 'kill' 'purchase' 'round_end' 'round_start' 'suicide' 'throw']\n",
    "needed_action = ['kill', 'assist']\n",
    "number_of_players = all_data.loc[all_data['type'].isin(needed_action)]\n",
    "print(number_of_players.shape)\n",
    "# print(number_of_players)"
   ]
  },
  {
   "cell_type": "code",
   "execution_count": 12,
   "metadata": {},
   "outputs": [
    {
     "name": "stdout",
     "output_type": "stream",
     "text": [
      "{'actor': {'playerId': 'rain', 'ingameTeam': 'CT'}, 'victim': {'playerId': 'RUSH', 'ingameTeam': 'TERRORIST'}}\n"
     ]
    },
    {
     "name": "stderr",
     "output_type": "stream",
     "text": [
      "C:\\Users\\zinaw\\Anaconda3\\lib\\site-packages\\ipykernel_launcher.py:7: FutureWarning: set_value is deprecated and will be removed in a future release. Please use .at[] or .iat[] accessors instead\n",
      "  import sys\n",
      "C:\\Users\\zinaw\\Anaconda3\\lib\\site-packages\\ipykernel_launcher.py:8: FutureWarning: set_value is deprecated and will be removed in a future release. Please use .at[] or .iat[] accessors instead\n",
      "  \n",
      "C:\\Users\\zinaw\\Anaconda3\\lib\\site-packages\\ipykernel_launcher.py:9: FutureWarning: set_value is deprecated and will be removed in a future release. Please use .at[] or .iat[] accessors instead\n",
      "  if __name__ == '__main__':\n",
      "C:\\Users\\zinaw\\Anaconda3\\lib\\site-packages\\ipykernel_launcher.py:10: FutureWarning: set_value is deprecated and will be removed in a future release. Please use .at[] or .iat[] accessors instead\n",
      "  # Remove the CWD from sys.path while we load stuff.\n",
      "C:\\Users\\zinaw\\Anaconda3\\lib\\site-packages\\ipykernel_launcher.py:11: FutureWarning: set_value is deprecated and will be removed in a future release. Please use .at[] or .iat[] accessors instead\n",
      "  # This is added back by InteractiveShellApp.init_path()\n",
      "C:\\Users\\zinaw\\Anaconda3\\lib\\site-packages\\ipykernel_launcher.py:12: FutureWarning: set_value is deprecated and will be removed in a future release. Please use .at[] or .iat[] accessors instead\n",
      "  if sys.path[0] == '':\n",
      "C:\\Users\\zinaw\\Anaconda3\\lib\\site-packages\\ipykernel_launcher.py:15: FutureWarning: set_value is deprecated and will be removed in a future release. Please use .at[] or .iat[] accessors instead\n",
      "  from ipykernel import kernelapp as app\n",
      "C:\\Users\\zinaw\\Anaconda3\\lib\\site-packages\\ipykernel_launcher.py:16: FutureWarning: set_value is deprecated and will be removed in a future release. Please use .at[] or .iat[] accessors instead\n",
      "  app.launch_new_instance()\n",
      "C:\\Users\\zinaw\\Anaconda3\\lib\\site-packages\\ipykernel_launcher.py:17: FutureWarning: set_value is deprecated and will be removed in a future release. Please use .at[] or .iat[] accessors instead\n",
      "C:\\Users\\zinaw\\Anaconda3\\lib\\site-packages\\ipykernel_launcher.py:18: FutureWarning: set_value is deprecated and will be removed in a future release. Please use .at[] or .iat[] accessors instead\n",
      "C:\\Users\\zinaw\\Anaconda3\\lib\\site-packages\\ipykernel_launcher.py:19: FutureWarning: set_value is deprecated and will be removed in a future release. Please use .at[] or .iat[] accessors instead\n"
     ]
    }
   ],
   "source": [
    "column_name_ = ['roundIdx', 'date','type','actor','item','position','victim']\n",
    "processed_data = pd.DataFrame(columns = column_name_)\n",
    "print(number_of_players['data'].iloc[7])\n",
    "# for index,val in df11.iterrows():\n",
    "for index,val in number_of_players.iterrows():\n",
    "    if val['type']=='kill':\n",
    "        processed_data.set_value(index, 'roundIdx', val['roundIdx'])\n",
    "        processed_data.set_value(index, 'date', val['date'].split('.')[0])\n",
    "        processed_data.set_value(index, 'type', val['type'])\n",
    "        processed_data.set_value(index, 'actor', val['data']['actor'])\n",
    "        processed_data.set_value(index, 'victim', val['data']['victim'])\n",
    "        processed_data.set_value(index, 'position', val['data']['actor']['position'])\n",
    "    else:\n",
    "        if val['type']=='assist':\n",
    "            processed_data.set_value(index, 'roundIdx', val['roundIdx'])\n",
    "            processed_data.set_value(index, 'date', val['date'].split('.')[0])\n",
    "            processed_data.set_value(index, 'type', val['type'])\n",
    "            processed_data.set_value(index, 'actor', val['data']['actor'])\n",
    "            processed_data.set_value(index, 'victim', val['data']['victim'])"
   ]
  },
  {
   "cell_type": "code",
   "execution_count": 13,
   "metadata": {},
   "outputs": [
    {
     "name": "stdout",
     "output_type": "stream",
     "text": [
      "(1397, 5)\n"
     ]
    },
    {
     "data": {
      "text/html": [
       "<div>\n",
       "<style scoped>\n",
       "    .dataframe tbody tr th:only-of-type {\n",
       "        vertical-align: middle;\n",
       "    }\n",
       "\n",
       "    .dataframe tbody tr th {\n",
       "        vertical-align: top;\n",
       "    }\n",
       "\n",
       "    .dataframe thead th {\n",
       "        text-align: right;\n",
       "    }\n",
       "</style>\n",
       "<table border=\"1\" class=\"dataframe\">\n",
       "  <thead>\n",
       "    <tr style=\"text-align: right;\">\n",
       "      <th></th>\n",
       "      <th>roundIdx</th>\n",
       "      <th>date</th>\n",
       "      <th>type</th>\n",
       "      <th>data</th>\n",
       "      <th>teams</th>\n",
       "    </tr>\n",
       "  </thead>\n",
       "  <tbody>\n",
       "    <tr>\n",
       "      <th>19</th>\n",
       "      <td>1</td>\n",
       "      <td>2018-03-02T12:10:08.885+00:00</td>\n",
       "      <td>kill</td>\n",
       "      <td>{'actor': {'playerId': 'olofmeister', 'ingameT...</td>\n",
       "      <td>NaN</td>\n",
       "    </tr>\n",
       "    <tr>\n",
       "      <th>20</th>\n",
       "      <td>1</td>\n",
       "      <td>2018-03-02T12:10:10.789+00:00</td>\n",
       "      <td>kill</td>\n",
       "      <td>{'actor': {'playerId': 'olofmeister', 'ingameT...</td>\n",
       "      <td>NaN</td>\n",
       "    </tr>\n",
       "    <tr>\n",
       "      <th>27</th>\n",
       "      <td>1</td>\n",
       "      <td>2018-03-02T12:10:21.626+00:00</td>\n",
       "      <td>kill</td>\n",
       "      <td>{'actor': {'playerId': 'karrigan', 'ingameTeam...</td>\n",
       "      <td>NaN</td>\n",
       "    </tr>\n",
       "    <tr>\n",
       "      <th>28</th>\n",
       "      <td>1</td>\n",
       "      <td>2018-03-02T12:10:23.086+00:00</td>\n",
       "      <td>kill</td>\n",
       "      <td>{'actor': {'playerId': 'karrigan', 'ingameTeam...</td>\n",
       "      <td>NaN</td>\n",
       "    </tr>\n",
       "    <tr>\n",
       "      <th>29</th>\n",
       "      <td>1</td>\n",
       "      <td>2018-03-02T12:10:23.091+00:00</td>\n",
       "      <td>assist</td>\n",
       "      <td>{'actor': {'playerId': 'Stewie2k', 'ingameTeam...</td>\n",
       "      <td>NaN</td>\n",
       "    </tr>\n",
       "  </tbody>\n",
       "</table>\n",
       "</div>"
      ],
      "text/plain": [
       "   roundIdx                           date    type  \\\n",
       "19        1  2018-03-02T12:10:08.885+00:00    kill   \n",
       "20        1  2018-03-02T12:10:10.789+00:00    kill   \n",
       "27        1  2018-03-02T12:10:21.626+00:00    kill   \n",
       "28        1  2018-03-02T12:10:23.086+00:00    kill   \n",
       "29        1  2018-03-02T12:10:23.091+00:00  assist   \n",
       "\n",
       "                                                 data teams  \n",
       "19  {'actor': {'playerId': 'olofmeister', 'ingameT...   NaN  \n",
       "20  {'actor': {'playerId': 'olofmeister', 'ingameT...   NaN  \n",
       "27  {'actor': {'playerId': 'karrigan', 'ingameTeam...   NaN  \n",
       "28  {'actor': {'playerId': 'karrigan', 'ingameTeam...   NaN  \n",
       "29  {'actor': {'playerId': 'Stewie2k', 'ingameTeam...   NaN  "
      ]
     },
     "execution_count": 13,
     "metadata": {},
     "output_type": "execute_result"
    }
   ],
   "source": [
    "temp_player_list = []\n",
    "player_dict = {}\n",
    "print(number_of_players.shape)\n",
    "c_dummp_=0\n",
    "index_set = set()\n",
    "for index, row in number_of_players.iterrows():\n",
    "#     print(index)\n",
    "    actor = row[3]['actor']['playerId']\n",
    "    victim = row[3]['victim']['playerId']\n",
    "    temp_player_list.append(actor)\n",
    "    temp_player_list.append(victim)\n",
    "#     print(temp_player_list)\n",
    "    player_dict[index] = temp_player_list\n",
    "    index_set.add(index)\n",
    "    temp_player_list = []\n",
    "    c_dummp_+=1\n",
    "# print(c_dummp_, len(index_set))\n",
    "# print(len(player_dict))\n",
    "# print(player_dict)\n",
    "number_of_players.head()"
   ]
  },
  {
   "cell_type": "code",
   "execution_count": 14,
   "metadata": {},
   "outputs": [
    {
     "name": "stdout",
     "output_type": "stream",
     "text": [
      "['assist' 'bomb_defuse' 'bomb_defuse_begin' 'bomb_plant' 'kill' 'purchase'\n",
      " 'round_backup' 'round_end' 'round_start' 'round_stop' 'suicide' 'throw']\n"
     ]
    }
   ],
   "source": [
    "print(np.unique(all_data['type']))"
   ]
  },
  {
   "cell_type": "code",
   "execution_count": 15,
   "metadata": {},
   "outputs": [
    {
     "ename": "NameError",
     "evalue": "name 'template' is not defined",
     "output_type": "error",
     "traceback": [
      "\u001b[1;31m---------------------------------------------------------------------------\u001b[0m",
      "\u001b[1;31mNameError\u001b[0m                                 Traceback (most recent call last)",
      "\u001b[1;32m<ipython-input-15-dc6c57a7b778>\u001b[0m in \u001b[0;36m<module>\u001b[1;34m()\u001b[0m\n\u001b[0;32m     14\u001b[0m             \u001b[1;32mraise\u001b[0m \u001b[0mValueError\u001b[0m\u001b[1;33m(\u001b[0m\u001b[0mi\u001b[0m\u001b[1;33m,\u001b[0m \u001b[1;34m\"time stamp decreses\"\u001b[0m\u001b[1;33m)\u001b[0m\u001b[1;33m\u001b[0m\u001b[0m\n\u001b[0;32m     15\u001b[0m \u001b[1;33m\u001b[0m\u001b[0m\n\u001b[1;32m---> 16\u001b[1;33m \u001b[0mfuncking_check_time_\u001b[0m\u001b[1;33m(\u001b[0m\u001b[0mall_data\u001b[0m\u001b[1;33m,\u001b[0m \u001b[0mtemplate\u001b[0m\u001b[1;33m)\u001b[0m\u001b[1;33m\u001b[0m\u001b[0m\n\u001b[0m",
      "\u001b[1;31mNameError\u001b[0m: name 'template' is not defined"
     ]
    }
   ],
   "source": [
    "def funcking_check_time_(all_data, template):\n",
    "    maxtime = None\n",
    "    temp_i = None\n",
    "    for i, r in all_data.iterrows():\n",
    "        temp_time = datetime.strptime((row.date.split('+')[0]).split('.')[0], template)\n",
    "        if temp_i is None or i == temp_i+1:\n",
    "            temp_i = i\n",
    "        else:\n",
    "            raise ValueError(i, \"Incontinuous index\")\n",
    "        \n",
    "        if maxtime is None or maxtime <= temp_time:\n",
    "            maxtime = temp_time\n",
    "        else:\n",
    "            raise ValueError(i, \"time stamp decreses\")\n",
    "        \n",
    "funcking_check_time_(all_data, template)"
   ]
  },
  {
   "cell_type": "code",
   "execution_count": null,
   "metadata": {},
   "outputs": [],
   "source": [
    "template = \"%Y-%m-%dT%H:%M:%S\"\n",
    "for index,row in df1.iterrows():\n",
    "    if row.type== 'round_start':\n",
    "        print(index)\n",
    "        starttime = (row.date.split('+')[0]).split('.')[0]\n",
    "        start_timestamp = datetime.strptime((row.date.split('+')[0]).split('.')[0], template)\n",
    "        print(start_timestamp)\n",
    "        break\n",
    "acutal_fucking_index = index\n",
    "print(acutal_fucking_index)\n",
    "#  start time :2018-03-02T12:09:55.756+00:00\n",
    "\n",
    "for index,row in df6.iterrows():\n",
    "    if row.type== 'round_end':\n",
    "        endtime = (row.date.split('+')[0]).split('.')[0]\n",
    "        end_timestamp = datetime.strptime((row.date.split('+')[0]).split('.')[0], template)\n",
    "print(end_timestamp)\n",
    "#  end time : 2018-03-02T20:34:59.881+00:00\n",
    "print(end_timestamp-start_timestamp)\n",
    "print((end_timestamp-start_timestamp).seconds)\n",
    "print(starttime, endtime)\n",
    "start_backup = start_timestamp\n",
    "end_backup = end_timestamp"
   ]
  },
  {
   "cell_type": "code",
   "execution_count": null,
   "metadata": {},
   "outputs": [],
   "source": [
    "# p11 start time:2018-03-04T21:58:22\n",
    "# print(type(pd.Timestamp('2018-03-04T21:58:22').seconds- pd.Timestamp('2018-03-04T21:58:23').seconds))\n",
    "# (pd.Timestamp('2018-03-04T21:58:22')- pd.Timestamp('2018-03-04T21:58:23')).seconds"
   ]
  },
  {
   "cell_type": "code",
   "execution_count": null,
   "metadata": {},
   "outputs": [],
   "source": [
    "def date_range(start, end):\n",
    "    from datetime import datetime\n",
    "    start = datetime.strptime(start,template)\n",
    "    end = datetime.strptime(end,template)\n",
    "    intv = (end  - start ).seconds \n",
    "    diff = (end  - start ) / intv\n",
    "    print(intv)\n",
    "    for i in range(intv):\n",
    "        yield (start + diff * i).strftime(template)\n",
    "    yield end.strftime(template)\n",
    "from_start_to_end_round = list(date_range(starttime, endtime))\n",
    "print(from_start_to_end_round[0],from_start_to_end_round[-1])\n",
    "# print(from_start_to_end_round)"
   ]
  },
  {
   "cell_type": "code",
   "execution_count": null,
   "metadata": {},
   "outputs": [],
   "source": [
    "from datetime import timedelta\n",
    "import collections\n",
    "\n",
    "\n",
    "def get_split_dict(all_data, start_backup, acutal_fucking_index,template, end_timestamp):\n",
    "    split_1sec_dict = collections.OrderedDict()\n",
    "#     temp_list = [acutal_fucking_index]# index of the start of the first round\n",
    "    temp_list = []\n",
    "    length = 0\n",
    "    start_timestamp = start_backup\n",
    "    history_set =set()\n",
    "    fucking_count = 0\n",
    "    for idx, row in all_data.iterrows():\n",
    "        fucking_count += 1\n",
    "        temp_timestamp = datetime.strptime((row[1].split('+')[0]).split('.')[0], template)\n",
    "        if temp_timestamp >= start_timestamp:\n",
    "#             if(idx==29):\n",
    "#                 print(\"shit\", temp_timestamp, start_timestamp)\n",
    "            if (temp_timestamp -start_timestamp).seconds>=1:\n",
    "                if len(temp_list) > 0:\n",
    "                    split_1sec_dict[start_timestamp.strftime(template)] = temp_list\n",
    "                    temp_list=[]\n",
    "                length = (temp_timestamp - start_timestamp).seconds\n",
    "                start_timestamp+=timedelta(seconds = length)\n",
    "                assert (start_timestamp == temp_timestamp)\n",
    "            if idx in history_set:\n",
    "                raise ValueError(\"ERROR\")\n",
    "                \n",
    "            temp_list.append(idx)\n",
    "            history_set.add(idx)\n",
    "\n",
    "        if temp_timestamp>end_timestamp:\n",
    "            break\n",
    "        \n",
    "    print(len(history_set), acutal_fucking_index, all_data.shape[0], fucking_count)\n",
    "#     assert -(len(history_set)-all_data.shape[0]) == acutal_fucking_index\n",
    "    return split_1sec_dict\n",
    "\n",
    "split_1sec_dict = get_split_dict(all_data, start_backup, acutal_fucking_index,template, end_timestamp)"
   ]
  },
  {
   "cell_type": "code",
   "execution_count": null,
   "metadata": {},
   "outputs": [],
   "source": [
    "print(len(split_1sec_dict))\n",
    "# print(split_1sec_dict)"
   ]
  },
  {
   "cell_type": "code",
   "execution_count": null,
   "metadata": {},
   "outputs": [],
   "source": [
    "event_keys_list = list(player_dict.keys())\n",
    "# event_keys_list = sorted(event_keys_list)\n",
    "# print(event_keys_list)\n",
    "print(len(event_keys_list))"
   ]
  },
  {
   "cell_type": "code",
   "execution_count": null,
   "metadata": {},
   "outputs": [],
   "source": [
    "def get_number_player_dict(split_1sec_dict, event_keys_list, player_dict):\n",
    "    number_of_players_dict = {}\n",
    "    history_index_set = set()\n",
    "    history_actual_event_set = set()\n",
    "    for key,val in split_1sec_dict.items():\n",
    "#         key timestamp val-> pd index list\n",
    "        temp_list_ = []\n",
    "        for key_index in val:\n",
    "            if key_index not in history_index_set:\n",
    "                history_index_set.add(key_index)\n",
    "            else:\n",
    "                raise ValueError(\"Key index already in history_index_set\", key_index, (key_index in history_index_set))\n",
    "            if key_index in event_keys_list:\n",
    "                history_actual_event_set.add(key_index)\n",
    "                assert len(player_dict[key_index])>=2\n",
    "                temp_list_.extend(player_dict[key_index])\n",
    "\n",
    "        number_of_players_dict[key] = len(set(temp_list_))   \n",
    "    print(len(history_index_set),len(history_actual_event_set))\n",
    "    \n",
    "    print(len(set(event_keys_list)))\n",
    "    miss_index = []\n",
    "    for i in event_keys_list:\n",
    "        if i not in history_actual_event_set:\n",
    "            miss_index.append(i)\n",
    "    print(miss_index)\n",
    "    \n",
    "    return number_of_players_dict\n",
    "\n",
    "\n",
    "\n",
    "number_of_players_dict = get_number_player_dict(split_1sec_dict, event_keys_list, player_dict)\n",
    "print(collections.Counter(number_of_players_dict.values()))\n",
    "# print((np.unique(number_of_players_dict.values())))\n",
    "print(len(number_of_players_dict))"
   ]
  },
  {
   "cell_type": "code",
   "execution_count": null,
   "metadata": {},
   "outputs": [],
   "source": [
    "def get_final_dict(from_start_to_end_round,number_of_players_dict, template):\n",
    "    final_dict = {}\n",
    "    for time_window in from_start_to_end_round:\n",
    "        final_dict[time_window] = 0\n",
    "    print(len(final_dict)) \n",
    "    \n",
    "    temp_index = 0\n",
    "    index_ = 0\n",
    "    for k1,v1 in number_of_players_dict.items():\n",
    "        temp_key_date = datetime.strptime(k1,template)\n",
    "        temp_teimstamp_dict = {}\n",
    "        for index in range(index_, len(from_start_to_end_round)):\n",
    "            time_window = from_start_to_end_round[index]\n",
    "#         for index, time_window in enumerate(from_start_to_end_round[index_:],start = index_): # list\n",
    "            standard_date = datetime.strptime(time_window,template)\n",
    "            if temp_key_date==standard_date or (temp_key_date-standard_date).seconds==0:\n",
    "                window = standard_date.strftime(template)\n",
    "                final_dict[window] = v1\n",
    "                break\n",
    "        index_ = index\n",
    "    print(len(final_dict))\n",
    "    return final_dict\n",
    "final_dict = get_final_dict(from_start_to_end_round,number_of_players_dict, template)"
   ]
  },
  {
   "cell_type": "code",
   "execution_count": null,
   "metadata": {},
   "outputs": [],
   "source": [
    "import matplotlib.pyplot as plt \n",
    "print()\n",
    "plt.plot(list(final_dict.keys()),list(final_dict.values()))\n",
    "plt.show()"
   ]
  },
  {
   "cell_type": "code",
   "execution_count": null,
   "metadata": {},
   "outputs": [],
   "source": [
    "# print(final_dict)\n",
    "print(collections.Counter(final_dict.values()))\n",
    "# np.save('numberofplayers_forP1_P6.npy', final_dict)\n",
    "np.save('numberofplayers_forP7_P11.npy', final_dict)"
   ]
  },
  {
   "cell_type": "code",
   "execution_count": null,
   "metadata": {},
   "outputs": [],
   "source": [
    "print(np.load('numberofplayers_forP1_P6.npy'))"
   ]
  }
 ],
 "metadata": {
  "kernelspec": {
   "display_name": "Python 3",
   "language": "python",
   "name": "python3"
  },
  "language_info": {
   "codemirror_mode": {
    "name": "ipython",
    "version": 3
   },
   "file_extension": ".py",
   "mimetype": "text/x-python",
   "name": "python",
   "nbconvert_exporter": "python",
   "pygments_lexer": "ipython3",
   "version": "3.6.4"
  }
 },
 "nbformat": 4,
 "nbformat_minor": 2
}
