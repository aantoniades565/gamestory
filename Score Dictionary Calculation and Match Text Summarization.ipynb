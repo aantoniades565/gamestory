{
 "cells": [
  {
   "cell_type": "code",
   "execution_count": null,
   "metadata": {},
   "outputs": [],
   "source": [
    "import pandas as pd\n",
    "import numpy as np\n",
    "import matplotlib.pylab as plt\n",
    "import math\n",
    "import json\n",
    "import collections\n",
    "import re\n",
    "from pprint import pprint\n",
    "import datetime\n",
    "from heapq import nlargest"
   ]
  },
  {
   "cell_type": "code",
   "execution_count": null,
   "metadata": {},
   "outputs": [],
   "source": [
    "def clean_data(data):\n",
    "    column_names = ['matchIdx', 'roundIdx', 'date', 'type', 'data','teams', 'highlight_score']\n",
    "    all_data = pd.DataFrame(columns = column_names)\n",
    "    for index,value in enumerate(data):\n",
    "        all_data.set_value(index, 'matchIdx', 0)\n",
    "        all_data.set_value(index, 'roundIdx', data[index]['roundIdx'])\n",
    "        all_data.set_value(index, 'date', data[index]['date'])\n",
    "        all_data.set_value(index, 'type', data[index]['type'])\n",
    "        all_data.set_value(index, 'data', data[index]['data'])\n",
    "        all_data.set_value(index, 'highlight_score', 0)\n",
    "    \n",
    "    return all_data"
   ]
  },
  {
   "cell_type": "code",
   "execution_count": null,
   "metadata": {},
   "outputs": [],
   "source": [
    "num_of_files = 11\n",
    "train_test_index_cutoff = 7 #How many json files to use\n",
    "jsonfp = []\n",
    "train = []\n",
    "test = []\n",
    "for i in range(1, num_of_files + 1):  \n",
    "    jsonfp.append('train_set/timelines/%s.json' % str(i))\n",
    "    with open(jsonfp[i-1]) as f:\n",
    "        if i in range(0,train_test_index_cutoff):\n",
    "            train = train + json.load(f)\n",
    "            print('train: train_set/timelines/%s.json' % str(i))\n",
    "        elif i != 10:\n",
    "            test = test + json.load(f)"
   ]
  },
  {
   "cell_type": "code",
   "execution_count": null,
   "metadata": {},
   "outputs": [],
   "source": [
    "train_df = clean_data(train)\n",
    "print('Done1')\n",
    "test_df = clean_data(test)\n",
    "print('Done2')"
   ]
  },
  {
   "cell_type": "code",
   "execution_count": null,
   "metadata": {},
   "outputs": [],
   "source": [
    "def startTimeRound(df):\n",
    "    for index,val in df.iterrows():\n",
    "        if val[\"type\"] == 'round_start':\n",
    "            t = df.iloc[index][\"date\"].split('+')[0]\n",
    "            break        \n",
    "    return t\n",
    "\n",
    "def startTimeOverall(df):\n",
    "    return df.iloc[0][\"date\"].split('+')[0]\n",
    "\n",
    "def endTime(df):\n",
    "    return df.iloc[len(df)-1][\"date\"].split('+')[0]"
   ]
  },
  {
   "cell_type": "code",
   "execution_count": null,
   "metadata": {},
   "outputs": [],
   "source": [
    "def calculate_gaussian_distro_val(variance, second, meanSecond):\n",
    "    gaussianVal = (1 / math.sqrt(2 * math.pi * variance)) * math.exp((-1/2 * (second - meanSecond)**2) / 2*variance**2)\n",
    "    return gaussianVal"
   ]
  },
  {
   "cell_type": "code",
   "execution_count": null,
   "metadata": {},
   "outputs": [],
   "source": [
    "def create_time_dict_of_zeros(t1, t2, delta):\n",
    "    dict = {}\n",
    "    while t1 <= t2:\n",
    "        dict[t1] = 0\n",
    "        t1 = t1 + delta\n",
    "    return dict    "
   ]
  },
  {
   "cell_type": "code",
   "execution_count": null,
   "metadata": {},
   "outputs": [],
   "source": [
    "def plot_curve_from_dict(dict):\n",
    "    lists = sorted(dict.items()) # sorted by key, return a list of tuples\n",
    "    x, y = zip(*lists) # unpack a list of pairs into two tuples\n",
    "    plt.figure(figsize=(10,10))\n",
    "    plt.plot(x, y)\n",
    "    plt.show()"
   ]
  },
  {
   "cell_type": "code",
   "execution_count": null,
   "metadata": {},
   "outputs": [],
   "source": [
    "weights_dict = {'assist':0.5, 'bomb_defuse':1, 'bomb_defuse_begin':0.9, 'bomb_plant':0.85, 'kill':0.75, 'purchase':0,\n",
    " 'round_end':0, 'round_start':0, 'suicide':0.3, 'throw':0.15, 'round_backup':0, 'round_stop':0}"
   ]
  },
  {
   "cell_type": "code",
   "execution_count": null,
   "metadata": {},
   "outputs": [],
   "source": [
    "important_events = []\n",
    "importance_thresh = 0.5\n",
    "for key, val in weights_dict.items():\n",
    "    if val >= importance_thresh:\n",
    "        important_events.append(key)\n",
    "player_streak_multiplier = 0.33\n",
    "headshot_multiplier = 1.25"
   ]
  },
  {
   "cell_type": "code",
   "execution_count": null,
   "metadata": {},
   "outputs": [],
   "source": [
    "#empty streak dict on round end\n",
    "def calculate_score_dictionary(df):\n",
    "    tTemplate = \"%Y-%m-%dT%H:%M:%S\"\n",
    "    second = datetime.timedelta(seconds=1)\n",
    "    tStart = datetime.datetime.strptime(startTimeRound(df).split('.')[0], tTemplate)\n",
    "    tEnd = datetime.datetime.strptime(endTime(df).split('.')[0], tTemplate)\n",
    "    tDistributionInterval = datetime.timedelta(seconds=5)\n",
    "    player_streak_dict = {}\n",
    "\n",
    "    timeline_score_dict = create_time_dict_of_zeros(tStart, tEnd, second)\n",
    "    \n",
    "    match_count = 0\n",
    "    for index,val in df.iterrows(): #Iterating through the dataframe\n",
    "        event_type = val[\"type\"]\n",
    "        \n",
    "        if event_type == \"round_start\" and val[\"roundIdx\"] == 1:\n",
    "            match_count = match_count + 1\n",
    "            player_streak_dict.clear()\n",
    "\n",
    "        if event_type != \"purchase\": \n",
    "            \n",
    "            date = datetime.datetime.strptime(val[\"date\"].split('.')[0], tTemplate)\n",
    "            score = timeline_score_dict[date] + weights_dict[val[\"type\"]] #basic score by only considering event weights\n",
    "            if event_type in {'kill', 'assist'}:\n",
    "                if event_type == 'kill' and val[\"data\"][\"headshot\"]: \n",
    "                    score = score * headshot_multiplier \n",
    "                if val[\"data\"][\"actor\"]['playerId'] in player_streak_dict: #adjusting the score if the same player has made multiple concecutive kills\n",
    "                    player_streak_dict[val[\"data\"][\"actor\"]['playerId']] = player_streak_dict[val[\"data\"][\"actor\"]['playerId']] + 1\n",
    "                    score = score + (score * player_streak_dict[val[\"data\"][\"actor\"]['playerId']] * player_streak_multiplier)  \n",
    "                else:\n",
    "                    player_streak_dict[val[\"data\"][\"actor\"]['playerId']] = 1\n",
    "            pop_keys = []\n",
    "            for key, value in player_streak_dict.items(): #Reducing the streak amount by 1 for every concecutive event players in the streak dict did not participate in\n",
    "                if event_type in {'kill', 'assist'}:\n",
    "                    if player_streak_dict[key] != player_streak_dict[val[\"data\"][\"actor\"]['playerId']]:\n",
    "                        player_streak_dict[key] = player_streak_dict[key] - 1\n",
    "                else:\n",
    "                    player_streak_dict[key] = player_streak_dict[key] - 1\n",
    "                if player_streak_dict[key] <= 0: \n",
    "                    pop_keys.append(key)\n",
    "            for key in pop_keys: #Removing a player from the streak dict if their streak reaches 0\n",
    "                player_streak_dict.pop(key)\n",
    "            timeline_score_dict[date] = score\n",
    "            val[\"highlight_score\"] = score\n",
    "            val[\"matchIdx\"] = match_count\n",
    "     \n",
    "            if score > score_thresh_for_distribution: #Preparing to perform Gaussian distribution of the score to tDistributionInterval entries before and after the current dict entry \n",
    "                variance = 1\n",
    "                tempDate = date\n",
    "                i = 1\n",
    "                while tempDate > (date - tDiffusionInterval) and (date-datetime.timedelta(seconds=i)) in timeline_score_dict and val[\"type\"] != 'purchase': #Entries before the current event\n",
    "                    previousScore = timeline_score_dict[date-datetime.timedelta(seconds=i)]\n",
    "                    previousDateSecond = (date-datetime.timedelta(seconds=i)).second\n",
    "                    dateSecond = date.second\n",
    "                    gaussianDistroVal = calculate_gaussian_distro_val(variance, previousDateSecond, dateSecond)\n",
    "                    adjustedScore = previousScore + gaussianDistroVal\n",
    "                    timeline_score_dict[date-datetime.timedelta(seconds=i)] = adjustedScore\n",
    "                    i = i + 1\n",
    "                    tempDate = tempDate - second\n",
    "                tempDate = date\n",
    "                i = 1\n",
    "                while tempDate < (date + tDiffusionInterval) and (date+datetime.timedelta(seconds=i)) in timeline_score_dict and val[\"type\"] != 'purchase': #Entries after the current event\n",
    "                    nextScore = timeline_score_dict[date+datetime.timedelta(seconds=i)]\n",
    "                    nextDateSecond = (date+datetime.timedelta(seconds=i)).second\n",
    "                    dateSecond = date.second\n",
    "                    gaussianDistroVal = calculate_gaussian_distro_val(variance, nextDateSecond, dateSecond)\n",
    "                    adjustedScore = nextScore + gaussianDistroVal\n",
    "                    timeline_score_dict[date+datetime.timedelta(seconds=i)] = adjustedScore\n",
    "                    i = i + 1\n",
    "                    tempDate = tempDate + second \n",
    "                                    \n",
    "        return timeline_score_dict"
   ]
  },
  {
   "cell_type": "code",
   "execution_count": null,
   "metadata": {},
   "outputs": [],
   "source": [
    "train_dict = calculate_score_dictionary(train_df)\n",
    "test_dict = calculate_score_dictionary(test_df)"
   ]
  },
  {
   "cell_type": "code",
   "execution_count": null,
   "metadata": {},
   "outputs": [],
   "source": [
    "game_objects_train = create_game_objects(train_df)\n",
    "game_objects_test = create_game_objects(test_df)"
   ]
  },
  {
   "cell_type": "code",
   "execution_count": null,
   "metadata": {},
   "outputs": [],
   "source": [
    "team_names_dict = {\n",
    "    \"95e1ecf1-d6ec-4643-96ef-ef971a9fa4fe\": \"Cloud9\",\n",
    "    \"24a7a69c-4c71-4534-853d-31b6d0be1399\": \"FaZe Clan\",\n",
    "    \"5dd8de73-181c-4e88-bf0f-4d18c9df8109\": \"Team Liquid\",\n",
    "    \"3ff57e88-df4a-4d8e-9d1a-a4480ddbf727\": \"Ninjas in Pyjamas\",\n",
    "    \"2d651b3b-8db9-4bb5-b3e1-c801050fc424\": \"Fnatic\",    \n",
    "} "
   ]
  },
  {
   "cell_type": "code",
   "execution_count": null,
   "metadata": {},
   "outputs": [],
   "source": [
    "def calculate_highlights(df, highlight_thresh):\n",
    "    highlights_dict = {}\n",
    "    match_highlights = []\n",
    "    match_count = 1\n",
    "    for row in df.itertuples(index=True, name='column_names'):\n",
    "        if getattr(row, \"matchIdx\") > match_count:\n",
    "            highlights_dict[match_count] = match_highlights\n",
    "            match_highlights = []\n",
    "            match_count  = match_count + 1\n",
    "        if (getattr(row, \"highlight_score\") > highlight_thresh) and (getattr(row, \"type\") in important_events):\n",
    "                match_highlights.append(row)\n",
    "    return highlights_dict"
   ]
  },
  {
   "cell_type": "code",
   "execution_count": null,
   "metadata": {},
   "outputs": [],
   "source": [
    "highlight_thresh = 3\n",
    "highlights_dict = calculate_highlights(train_df, highlight_thresh)"
   ]
  },
  {
   "cell_type": "code",
   "execution_count": null,
   "metadata": {},
   "outputs": [],
   "source": [
    "def get_event_details_on_type(highlight):\n",
    "    details = 0\n",
    "    if highlight[\"type\"] == \"kill\":\n",
    "        details = \"killed \" + str(highlight[\"data\"][\"victim\"][\"playerId\"]) + \" with a \" + str(highlight[\"data\"][\"weapon\"])  \n",
    "    elif highlight[\"type\"] == \"assist\":\n",
    "        details = \"assisted in killing \" + str(highlight[\"data\"][\"victim\"][\"playerId\"])\n",
    "    elif highlight[\"type\"] == \"bomb_plant\":\n",
    "        details = \"planted the bomb\" + str(highlight[\"roundIdx\"])\n",
    "    elif highlight[\"type\"] == \"bomb_defuse_begin\":\n",
    "        details = \"started to defuse the bomb\"\n",
    "    elif highlight[\"type\"] == \"bomb_defuse\":\n",
    "        details = \"successfully defused the bomb, taking it home for the team\" + str(highlight[\"roundIdx\"])\n",
    "    elif highlight[\"type\"] == \"throw\":\n",
    "        details = \"throwing a \" + str(highlight[\"data\"][\"item\"]) + \" and causing all kinds of trouble\"\n",
    "    return details"
   ]
  },
  {
   "cell_type": "code",
   "execution_count": null,
   "metadata": {},
   "outputs": [],
   "source": [
    "def get_match_highlight_modifier_string(highlight_count):\n",
    "    highlight_modifier = 0\n",
    "    if highlight_count > 5:\n",
    "        highlight_modifier = \"a thrilling\"\n",
    "    elif highlight_count > 3:\n",
    "        highlight_modifier = \"an exciting\"\n",
    "    else:\n",
    "        highlight_modifier = \"a great\"\n",
    "        \n",
    "    return highlight_modifier"
   ]
  },
  {
   "cell_type": "code",
   "execution_count": null,
   "metadata": {},
   "outputs": [],
   "source": [
    "def get_round_win_balance_string(t1_score, t2_score):\n",
    "    rwb = [0, 0]\n",
    "    if (t1_score >= t2_score * 3) or (t2_score > t1_score * 3):\n",
    "        rwb[0] = \"an overwhelmingly one-sided\"\n",
    "        rwb[1] = \"and\"\n",
    "    elif (t1_score >= t2_score * 2) or (t2_score > t1_score * 2):\n",
    "        rwb[0] = \"a mostly one-sided\"\n",
    "        rwb[1] = \"and\"\n",
    "    elif (t1_score >= t2_score * 1.5) or (t2_score > t1_score * 1.5): \n",
    "        rwb[0] = \"a somewhat one-sided\"\n",
    "        rwb[1] = \"but\"\n",
    "    else:\n",
    "        rwb[0] = \"a rather even\"\n",
    "        rwb[1] = \"but\"\n",
    "        \n",
    "    return rwb"
   ]
  },
  {
   "cell_type": "code",
   "execution_count": null,
   "metadata": {},
   "outputs": [],
   "source": [
    "def get_empty_summary_string_list(index): \n",
    "    summaries = {}\n",
    "    summaries[0] = [[\"On {0}, we witnessed {1} match between {2} and {3}.\"],\n",
    "                    [\"It was {0} fight, {1} in the end, {2} won with {3} to {4}.\"], \n",
    "                    [\"There was a total of {0} highlights in the match, that we found interesting.\"],\n",
    "                    [\"The best ones were when {0} {1}, in round {2}. \"],\n",
    "                    [\"Then {0} {1}, in round {2}.\"],\n",
    "                    [\"And who can forget {0} {1}, in round {2}.\"],\n",
    "                    [\"Check out our highlights video at {0}, and stay tuned for more exciting match summaries.\"]]\n",
    "    summaries[1] = [\"\"]\n",
    "    return summaries[index]\n"
   ]
  },
  {
   "cell_type": "code",
   "execution_count": null,
   "metadata": {},
   "outputs": [],
   "source": [
    "def get_match_summary(match_index, n_highlights): #Defining them manually, instead of using NLG\n",
    "    match_highlight_count = len(matches_highlight_dict[match_index])\n",
    "    match_highlight_modifier = get_match_highlight_modifier_string(match_highlight_count)\n",
    "    round_win_balance = get_round_win_balance_string(t1_score, t2_score)\n",
    "    teams = [[team_names_dict[game_objects[match_index].get_team(0).get_team_id()], \n",
    "              game_objects[match_index].get_team(0).get_score()], \n",
    "             [team_names_dict[game_objects[match_index].get_team(1).get_team_id()], \n",
    "              game_objects[match_index].get_team(1).get_score()]]\n",
    "    winning_team = [teams[0][0] if teams[0][1] > teams[1][1] else teams[0][0], \n",
    "                    max(teams[0][1], teams[1][1])]\n",
    "    losing_team  = [teams[0][0] if teams[0][1] < teams[1][1] else teams[0][0], \n",
    "                    min(teams[0][1], teams[1][1])]\n",
    "    \n",
    "    top_n_highlights = nlargest(n_highlights, matches_highlight_dict[match_index], key=int)\n",
    "    date = matches_highlight_dict[match_index][top_n_highlights[len(top_n_highlights) - 1]][\"date\"].split('T')[0]\n",
    "    highlights = {}\n",
    "    for i in range(0, n_highlights):\n",
    "        highlights[i] = {'player': matches_highlight_dict[match_index][top_n_highlights[i]][\"data\"][\"actor\"][\"playerId\"]},\n",
    "        {'type': matches_highlight_dict[match_index][top_n_highlights[i]][\"type\"] },\n",
    "        {'round': matches_highlight_dict[match_index][top_n_highlights[i]][\"roundIdx\"]},\n",
    "        {'eventdets': get_event_details_on_type(matches_highlight_dict[match_index][top_n_highlights[i]])}\n",
    "    highlights_link = \"{LINK}\"    \n",
    "    summary_index = 0\n",
    "    summary = get_empty_summary_string_list(summary_index)\n",
    "    if summary_index == 1: #Different for every summary type, not applying NLG\n",
    "        summary[0] = str(summary[0]).format(date, match_highlight_modifier, t1_name, t2_name)\n",
    "        summary[1] = str(summary[1]).format(round_win_balance[0], round_win_balance[1], winning_team, winning_score, losing_score)\n",
    "        summary[2] = str(summary[2]).format(match_highlight_count)\n",
    "        for i in range(3,5):\n",
    "            summary[i] = str(summary[i]).format(highlights[i-3]['player'], highlights[i-3]['eventdets'], highlights[i-3]['round'])\n",
    "        summary[6] = str(summary[6]).format(highlights_link)\n",
    "    \n",
    "    return summary\n",
    "        "
   ]
  },
  {
   "cell_type": "code",
   "execution_count": null,
   "metadata": {},
   "outputs": [],
   "source": [
    "get_match_summary(1, 3)"
   ]
  }
 ],
 "metadata": {
  "kernelspec": {
   "display_name": "Python 3",
   "language": "python",
   "name": "python3"
  },
  "language_info": {
   "codemirror_mode": {
    "name": "ipython",
    "version": 3
   },
   "file_extension": ".py",
   "mimetype": "text/x-python",
   "name": "python",
   "nbconvert_exporter": "python",
   "pygments_lexer": "ipython3",
   "version": "3.6.5"
  }
 },
 "nbformat": 4,
 "nbformat_minor": 2
}
